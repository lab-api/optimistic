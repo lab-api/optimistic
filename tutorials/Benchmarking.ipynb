{
 "cells": [
  {
   "cell_type": "markdown",
   "metadata": {},
   "source": [
    "Running optimizations in Optimistic has some processing overhead over leaner libraries like scipy.optimize, used for things like checking that parameters are safely within defined bounds or storing data in human-readable formats. In this notebook, we compare the overhead to pure Python implementations."
   ]
  },
  {
   "cell_type": "code",
   "execution_count": null,
   "metadata": {},
   "outputs": [],
   "source": [
    "import numpy as np\n",
    "from parametric import Parameter\n",
    "from optimistic import experiment, GridSearch, GradientDescent\n",
    "import time \n",
    "\n",
    "x = Parameter('x', 0.5)\n",
    "\n",
    "@experiment\n",
    "def gaussian():\n",
    "    return np.exp(-x**2)\n"
   ]
  },
  {
   "cell_type": "code",
   "execution_count": null,
   "metadata": {},
   "outputs": [],
   "source": [
    "%%time\n",
    "grid = GridSearch(gaussian, steps=1000, show_progress=False, record_data=False).add_parameter(x, bounds=(-1, 1))\n",
    "grid.run()"
   ]
  },
  {
   "cell_type": "code",
   "execution_count": null,
   "metadata": {},
   "outputs": [],
   "source": [
    "%%time\n",
    "results = np.array([])\n",
    "for x0 in np.linspace(-1, 1, 1000):\n",
    "    results = np.append(results, gaussian(x=x0))\n",
    "#     gaussian(x=x0)"
   ]
  },
  {
   "cell_type": "code",
   "execution_count": null,
   "metadata": {},
   "outputs": [],
   "source": []
  }
 ],
 "metadata": {
  "kernelspec": {
   "display_name": "Python 3",
   "language": "python",
   "name": "python3"
  },
  "language_info": {
   "codemirror_mode": {
    "name": "ipython",
    "version": 3
   },
   "file_extension": ".py",
   "mimetype": "text/x-python",
   "name": "python",
   "nbconvert_exporter": "python",
   "pygments_lexer": "ipython3",
   "version": "3.7.1"
  },
  "toc": {
   "base_numbering": 1,
   "nav_menu": {},
   "number_sections": false,
   "sideBar": true,
   "skip_h1_title": false,
   "title_cell": "Table of Contents",
   "title_sidebar": "Contents",
   "toc_cell": false,
   "toc_position": {},
   "toc_section_display": true,
   "toc_window_display": false
  }
 },
 "nbformat": 4,
 "nbformat_minor": 2
}
