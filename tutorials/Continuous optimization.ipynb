{
 "cells": [
  {
   "cell_type": "markdown",
   "metadata": {},
   "source": [
    "Most of the time, we want our optimizer to quit when it converges or when the parameter space has been fully explored. Other times, we'd rather optimize continuously, keeping the coordinates near a (potentially drifting) maximum. In these cases, we can pass the \"continuous=True\" flag into certain optimizers. This overrides a specified number of iterations and will instead run the optimization algorithm until interrupted.\n",
    "\n",
    "Let's see an example of continuous optimization. We define a Gaussian objective function with a second (uncontrolled) parameter determining the location of the peak. We'll start continuous optimization and watch how the GradientDescent optimizer responds when we change the peak location:"
   ]
  },
  {
   "cell_type": "code",
   "execution_count": null,
   "metadata": {},
   "outputs": [],
   "source": [
    "import numpy as np\n",
    "from parametric import Parameter\n",
    "from optimistic import experiment, GridSearch, GradientDescent\n",
    "import time \n",
    "\n",
    "x = Parameter('x', 0.5)\n",
    "x0 = Parameter('x0', 0)\n",
    "\n",
    "@experiment\n",
    "def gaussian():\n",
    "    time.sleep(0.0005)\n",
    "    return np.exp(-(x-x0)**2)\n",
    "\n",
    "gd = GradientDescent(gaussian, \n",
    "                     show_progress=False, \n",
    "                     record_data=False, \n",
    "                     display=True, \n",
    "                     continuous=True, \n",
    "                     learning_rate=8e-2,\n",
    "                     threaded=True).add_parameter(x, bounds=(-10, 10))\n",
    "gd.run()\n"
   ]
  },
  {
   "cell_type": "code",
   "execution_count": null,
   "metadata": {},
   "outputs": [],
   "source": [
    "x0(0.2)"
   ]
  },
  {
   "cell_type": "markdown",
   "metadata": {},
   "source": [
    "# Behind the scenes\n",
    "To streamline the code, we'd like to choose between \"while True\" and \"for i in range(iterations)\" statements depending on the truth value of \"continuous.\" This can be done very cleanly using a generator overriding range:"
   ]
  },
  {
   "cell_type": "code",
   "execution_count": null,
   "metadata": {},
   "outputs": [],
   "source": [
    "def custom_range(iterations, continuous=False):\n",
    "    if not continuous:\n",
    "        yield from range(iterations)\n",
    "    else:\n",
    "        i = 0\n",
    "        while True:\n",
    "            yield i \n",
    "            i = (i+1) % iterations\n",
    "  \n",
    "for i in custom_range(10, continuous=False):\n",
    "    print(i)"
   ]
  },
  {
   "cell_type": "markdown",
   "metadata": {},
   "source": [
    "If continuous==False, then this behaves exactly like a list. However, if continuous==True, then the generator will repeatedly reset i to 0 and repeat the incrementing until the execution is interrupted. This function is defined in the Algorithm base class, so algorithms using \"for i in range(iterations)\" will automatically run forever if the \"continuous\" flag is set to True."
   ]
  },
  {
   "cell_type": "markdown",
   "metadata": {},
   "source": [
    "We also have an \"iterate\" function which replaces the default Python behavior of \"for x in X\", where X is a list. If self.continuous is True, the list will be iterated through repeatedly. This function looks like this:"
   ]
  },
  {
   "cell_type": "code",
   "execution_count": null,
   "metadata": {},
   "outputs": [],
   "source": [
    "def iterate(lst, continuous=False):\n",
    "    if not continuous:\n",
    "        yield from list(lst)\n",
    "    else:\n",
    "        i = 0\n",
    "        while True:\n",
    "            yield lst[i]\n",
    "            i = (i+1) % len(lst)\n",
    "            \n",
    "            "
   ]
  },
  {
   "cell_type": "code",
   "execution_count": null,
   "metadata": {},
   "outputs": [],
   "source": [
    "points = [0, 2, 3, 5]\n",
    "\n",
    "for p in iterate(points, continuous=False):\n",
    "    print(p)"
   ]
  },
  {
   "cell_type": "code",
   "execution_count": null,
   "metadata": {},
   "outputs": [],
   "source": []
  }
 ],
 "metadata": {
  "kernelspec": {
   "display_name": "Python 3",
   "language": "python",
   "name": "python3"
  },
  "language_info": {
   "codemirror_mode": {
    "name": "ipython",
    "version": 3
   },
   "file_extension": ".py",
   "mimetype": "text/x-python",
   "name": "python",
   "nbconvert_exporter": "python",
   "pygments_lexer": "ipython3",
   "version": "3.7.1"
  },
  "toc": {
   "base_numbering": 1,
   "nav_menu": {},
   "number_sections": false,
   "sideBar": true,
   "skip_h1_title": false,
   "title_cell": "Table of Contents",
   "title_sidebar": "Contents",
   "toc_cell": false,
   "toc_position": {},
   "toc_section_display": true,
   "toc_window_display": false
  }
 },
 "nbformat": 4,
 "nbformat_minor": 2
}
